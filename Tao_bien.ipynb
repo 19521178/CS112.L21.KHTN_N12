{
 "cells": [
  {
   "cell_type": "markdown",
   "metadata": {
    "colab_type": "text",
    "id": "view-in-github"
   },
   "source": [
    "<a href=\"https://colab.research.google.com/github/vinhqngo5/CS112.L11.KHTN_Team011/blob/master/week2/Homework/Tao_bien.ipynb\" target=\"_parent\"><img src=\"https://colab.research.google.com/assets/colab-badge.svg\" alt=\"Open In Colab\"/></a>"
   ]
  },
  {
   "cell_type": "markdown",
   "metadata": {
    "colab_type": "text",
    "id": "kse7vbtKiAop"
   },
   "source": [
    "<h1>NHÓM 12</h1>\n",
    "<h2>ĐỀ BÀI: TẢO BIỂN</h2>\n",
    "<br>\n",
    "Tảo biển sinh sản rất nhanh khi có môi trường thuận lợi với chúng và có những   loài còn tiết ra môi trường những chất độc hại. Một loại tảo nâu trong môi trường nước bị ô nhiễm nặng sinh sản theo quy luật sau:\n",
    "<ul>\n",
    "    <li>Ngày đầu tiên (ngày 0) có n cá thể ở mức 1 </li>\n",
    "<li>Ở mỗi ngày tiếp theo, mỗi cá thể mức i sinh ra i cá thể mức 1, các cá thể mới sinh sẽ sinh sôi, phát triển từ ngày hôm sau.</li>\n",
    "<li>Bản thân các cá thể mức i phát triển thành mức i+1 và chu kỳ phát triển trong ngày chấm dứt.</li>\n",
    "</ul>\n",
    "\n",
    "Hãy xác định sau k ngày trong nước biển có bao nhiêu cá thể.  \n",
    "<br>\n",
    "<b>Dữ liệu:</b> Vào từ thiết bị nhập chuẩn gồm một dòng chứa 2 số nguyên n và k (1 ≤ n ≤ 1000, 1 ≤ k ≤ 1018)  \n",
    "<br>\n",
    "<b>Kết quả:</b> Đưa ra thiết bị xuất chuẩn một số nguyên – số lượng cá thể  tảo theo mô đun $10^9+7$.\n",
    "\n",
    "Ví dụ:\n",
    "\n",
    "<img src=\"Screenshot 2020-09-22 165357.png\" width = \"150\" height=\"80\">\n",
    "\n",
    "<h2>1. Abstraction</h2>\n",
    "\n",
    "Cho $n,k$ .Tính $F(2*k+1)*n$  ( với $F(2*k+1)$ là số Fibonacci thứ $2*k+1$ )  \n",
    "\n",
    "<h2>2. Pattern Recognition</h2>\n",
    "Tìm phần tử thứ n của dãy Fibonacci\n",
    "<h2>3. Algorithm Design</h2>\n",
    "\n",
    "\n"
   ]
  }
 ],
 "metadata": {
  "colab": {
   "collapsed_sections": [],
   "include_colab_link": true,
   "name": "Tao_bien.ipynb",
   "provenance": [],
   "toc_visible": true
  },
  "kernelspec": {
   "display_name": "Python 3",
   "language": "python",
   "name": "python3"
  },
  "language_info": {
   "codemirror_mode": {
    "name": "ipython",
    "version": 3
   },
   "file_extension": ".py",
   "mimetype": "text/x-python",
   "name": "python",
   "nbconvert_exporter": "python",
   "pygments_lexer": "ipython3",
   "version": "3.8.3"
  }
 },
 "nbformat": 4,
 "nbformat_minor": 1
}